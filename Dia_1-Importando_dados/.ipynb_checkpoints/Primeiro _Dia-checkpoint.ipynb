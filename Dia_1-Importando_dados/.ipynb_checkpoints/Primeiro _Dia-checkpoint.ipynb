{
 "cells": [
  {
   "cell_type": "markdown",
   "id": "5ceafe2e",
   "metadata": {},
   "source": [
    "# 7DaysofCode - Alura"
   ]
  },
  {
   "cell_type": "markdown",
   "id": "89fea405",
   "metadata": {},
   "source": [
    "### Comece pelos empréstimos e você terá os dados das transações. Depois, mescle com os dados do acervo, para que você possa entender, por exemplo, de qual biblioteca era o material emprestado ou a qual tema ele se referia. Elas se relacionam pela coluna de código de barras de cada material."
   ]
  },
  {
   "cell_type": "code",
   "execution_count": 1,
   "id": "4cf7d3d3",
   "metadata": {},
   "outputs": [],
   "source": [
    "import pandas as pd"
   ]
  },
  {
   "cell_type": "code",
   "execution_count": 2,
   "id": "405be327",
   "metadata": {},
   "outputs": [],
   "source": [
    "from pathlib import Path"
   ]
  },
  {
   "cell_type": "code",
   "execution_count": 3,
   "id": "86c7fe8a",
   "metadata": {},
   "outputs": [],
   "source": [
    "arquivos =  Path('Datasets/dados_emprestimos').glob('*.csv')"
   ]
  },
  {
   "cell_type": "code",
   "execution_count": 4,
   "id": "ed661564",
   "metadata": {},
   "outputs": [],
   "source": [
    "lista_arquivos = []"
   ]
  },
  {
   "cell_type": "code",
   "execution_count": 5,
   "id": "9faa9f5f",
   "metadata": {},
   "outputs": [],
   "source": [
    "for x in arquivos:\n",
    "    lista_arquivos.append(x.name)"
   ]
  },
  {
   "cell_type": "code",
   "execution_count": null,
   "id": "c47e1c91",
   "metadata": {},
   "outputs": [],
   "source": [
    "len(lista_arquivos)"
   ]
  },
  {
   "cell_type": "code",
   "execution_count": 6,
   "id": "72487150",
   "metadata": {
    "collapsed": true
   },
   "outputs": [
    {
     "name": "stderr",
     "output_type": "stream",
     "text": [
      "/tmp/ipykernel_4751/1660477883.py:4: FutureWarning: The frame.append method is deprecated and will be removed from pandas in a future version. Use pandas.concat instead.\n",
      "  total = total.append(df)\n",
      "/tmp/ipykernel_4751/1660477883.py:4: FutureWarning: The frame.append method is deprecated and will be removed from pandas in a future version. Use pandas.concat instead.\n",
      "  total = total.append(df)\n",
      "/tmp/ipykernel_4751/1660477883.py:4: FutureWarning: The frame.append method is deprecated and will be removed from pandas in a future version. Use pandas.concat instead.\n",
      "  total = total.append(df)\n",
      "/tmp/ipykernel_4751/1660477883.py:4: FutureWarning: The frame.append method is deprecated and will be removed from pandas in a future version. Use pandas.concat instead.\n",
      "  total = total.append(df)\n",
      "/tmp/ipykernel_4751/1660477883.py:4: FutureWarning: The frame.append method is deprecated and will be removed from pandas in a future version. Use pandas.concat instead.\n",
      "  total = total.append(df)\n",
      "/tmp/ipykernel_4751/1660477883.py:4: FutureWarning: The frame.append method is deprecated and will be removed from pandas in a future version. Use pandas.concat instead.\n",
      "  total = total.append(df)\n",
      "/tmp/ipykernel_4751/1660477883.py:4: FutureWarning: The frame.append method is deprecated and will be removed from pandas in a future version. Use pandas.concat instead.\n",
      "  total = total.append(df)\n",
      "/tmp/ipykernel_4751/1660477883.py:4: FutureWarning: The frame.append method is deprecated and will be removed from pandas in a future version. Use pandas.concat instead.\n",
      "  total = total.append(df)\n",
      "/tmp/ipykernel_4751/1660477883.py:4: FutureWarning: The frame.append method is deprecated and will be removed from pandas in a future version. Use pandas.concat instead.\n",
      "  total = total.append(df)\n",
      "/tmp/ipykernel_4751/1660477883.py:4: FutureWarning: The frame.append method is deprecated and will be removed from pandas in a future version. Use pandas.concat instead.\n",
      "  total = total.append(df)\n",
      "/tmp/ipykernel_4751/1660477883.py:4: FutureWarning: The frame.append method is deprecated and will be removed from pandas in a future version. Use pandas.concat instead.\n",
      "  total = total.append(df)\n",
      "/tmp/ipykernel_4751/1660477883.py:4: FutureWarning: The frame.append method is deprecated and will be removed from pandas in a future version. Use pandas.concat instead.\n",
      "  total = total.append(df)\n",
      "/tmp/ipykernel_4751/1660477883.py:4: FutureWarning: The frame.append method is deprecated and will be removed from pandas in a future version. Use pandas.concat instead.\n",
      "  total = total.append(df)\n",
      "/tmp/ipykernel_4751/1660477883.py:4: FutureWarning: The frame.append method is deprecated and will be removed from pandas in a future version. Use pandas.concat instead.\n",
      "  total = total.append(df)\n",
      "/tmp/ipykernel_4751/1660477883.py:4: FutureWarning: The frame.append method is deprecated and will be removed from pandas in a future version. Use pandas.concat instead.\n",
      "  total = total.append(df)\n",
      "/tmp/ipykernel_4751/1660477883.py:4: FutureWarning: The frame.append method is deprecated and will be removed from pandas in a future version. Use pandas.concat instead.\n",
      "  total = total.append(df)\n",
      "/tmp/ipykernel_4751/1660477883.py:4: FutureWarning: The frame.append method is deprecated and will be removed from pandas in a future version. Use pandas.concat instead.\n",
      "  total = total.append(df)\n",
      "/tmp/ipykernel_4751/1660477883.py:4: FutureWarning: The frame.append method is deprecated and will be removed from pandas in a future version. Use pandas.concat instead.\n",
      "  total = total.append(df)\n",
      "/tmp/ipykernel_4751/1660477883.py:4: FutureWarning: The frame.append method is deprecated and will be removed from pandas in a future version. Use pandas.concat instead.\n",
      "  total = total.append(df)\n",
      "/tmp/ipykernel_4751/1660477883.py:4: FutureWarning: The frame.append method is deprecated and will be removed from pandas in a future version. Use pandas.concat instead.\n",
      "  total = total.append(df)\n",
      "/tmp/ipykernel_4751/1660477883.py:4: FutureWarning: The frame.append method is deprecated and will be removed from pandas in a future version. Use pandas.concat instead.\n",
      "  total = total.append(df)\n"
     ]
    }
   ],
   "source": [
    "total = pd.DataFrame()\n",
    "for tabela in lista_arquivos:\n",
    "    df = pd.read_csv(f'Datasets/dados_emprestimos/{tabela}')\n",
    "    total = total.append(df)"
   ]
  },
  {
   "cell_type": "code",
   "execution_count": null,
   "id": "b6b11f80",
   "metadata": {},
   "outputs": [],
   "source": [
    "!pip install pyarrow"
   ]
  },
  {
   "cell_type": "code",
   "execution_count": null,
   "id": "b6f8a209",
   "metadata": {},
   "outputs": [],
   "source": [
    "total.head()"
   ]
  },
  {
   "cell_type": "code",
   "execution_count": null,
   "id": "64e16f6f",
   "metadata": {},
   "outputs": [],
   "source": [
    "total.tipo_vinculo_usuario.unique()"
   ]
  },
  {
   "cell_type": "code",
   "execution_count": null,
   "id": "d6fa825a",
   "metadata": {},
   "outputs": [],
   "source": [
    "selecao = total.matricula_ou_siape.isnull()"
   ]
  },
  {
   "cell_type": "code",
   "execution_count": null,
   "id": "9b2086f1",
   "metadata": {},
   "outputs": [],
   "source": [
    "total[selecao]"
   ]
  },
  {
   "cell_type": "code",
   "execution_count": 7,
   "id": "22e793f7",
   "metadata": {},
   "outputs": [],
   "source": [
    "acervo = pd.read_parquet('Datasets/dados_exemplares.parquet')"
   ]
  },
  {
   "cell_type": "code",
   "execution_count": null,
   "id": "842de182",
   "metadata": {},
   "outputs": [],
   "source": [
    "type(acervo)"
   ]
  },
  {
   "cell_type": "code",
   "execution_count": 8,
   "id": "a4882a66",
   "metadata": {},
   "outputs": [],
   "source": [
    "tabela_completa = pd.merge(total,acervo, on='codigo_barras')"
   ]
  },
  {
   "cell_type": "code",
   "execution_count": 9,
   "id": "8eab2233",
   "metadata": {},
   "outputs": [],
   "source": [
    "del total,acervo"
   ]
  },
  {
   "cell_type": "code",
   "execution_count": 10,
   "id": "8feeaf43",
   "metadata": {},
   "outputs": [],
   "source": [
    "tabela_completa.to_csv('Datasets/tabela_completa14marco.csv', index=False)"
   ]
  },
  {
   "cell_type": "code",
   "execution_count": null,
   "id": "0e695d28",
   "metadata": {},
   "outputs": [],
   "source": [
    "tabela_completa.head()"
   ]
  },
  {
   "cell_type": "markdown",
   "id": "d3b4608b",
   "metadata": {},
   "source": [
    "000 a 099: Generalidades. Ciência e conhecimento.\n",
    "100 a 199: Filosofia e psicologia.\n",
    "200 a 299: Religião.\n",
    "300 a 399: Ciências sociais.\n",
    "400 a 499: Classe vaga. Provisoriamente não ocupada.\n",
    "500 a 599: Matemática e ciências naturais.\n",
    "600 a 699: Ciências aplicadas.\n",
    "700 a 799: Belas artes.\n",
    "800 a 899: Linguagem. Língua. Linguística.\n",
    "900 a 999: Geografia. Biografia. História.\""
   ]
  },
  {
   "cell_type": "code",
   "execution_count": 11,
   "id": "e641dbc4",
   "metadata": {},
   "outputs": [],
   "source": [
    "grupo_livros = [0,99,199,299,399,499,599,699,799,899,999]\n",
    "nome_grupos = ['Generalidades. Ciência e conhecimento','Filosofia e psicologia','Religião','Ciências sociais'\n",
    "              ,'Classe vaga. Provisoriamente não ocupada','Matemática e ciências naturais','Ciências aplicadas',\n",
    "              'Belas artes','Linguagem. Língua. Linguística','Geografia. Biografia. História']"
   ]
  },
  {
   "cell_type": "code",
   "execution_count": 12,
   "id": "999d27a0",
   "metadata": {
    "collapsed": true
   },
   "outputs": [
    {
     "data": {
      "text/plain": [
       "Ciências aplicadas                          1425496\n",
       "Ciências sociais                             369543\n",
       "Matemática e ciências naturais                68745\n",
       "Generalidades. Ciência e conhecimento         62525\n",
       "Religião                                      62295\n",
       "Filosofia e psicologia                        60564\n",
       "Geografia. Biografia. História                 7989\n",
       "Belas artes                                    7911\n",
       "Linguagem. Língua. Linguística                 7490\n",
       "Classe vaga. Provisoriamente não ocupada          0\n",
       "Name: localizacao, dtype: int64"
      ]
     },
     "execution_count": 12,
     "metadata": {},
     "output_type": "execute_result"
    }
   ],
   "source": [
    "pd.value_counts(pd.cut(x=tabela_completa.localizacao,\n",
    "      bins=grupo_livros,\n",
    "      labels=nome_grupos,\n",
    "       include_lowest=True\n",
    "      ))"
   ]
  },
  {
   "cell_type": "code",
   "execution_count": 13,
   "id": "3aa0e9a3",
   "metadata": {},
   "outputs": [],
   "source": [
    "coluna_grupo_CDU = pd.cut(x=tabela_completa.localizacao,\n",
    "      bins=grupo_livros,\n",
    "      labels=nome_grupos,\n",
    "       include_lowest=True\n",
    "      )"
   ]
  },
  {
   "cell_type": "code",
   "execution_count": 14,
   "id": "f4ea415f",
   "metadata": {},
   "outputs": [],
   "source": [
    "tabela_completa['grupo_CDU'] = coluna_grupo_CDU"
   ]
  },
  {
   "cell_type": "code",
   "execution_count": 15,
   "id": "ebb0d5f6",
   "metadata": {
    "collapsed": true
   },
   "outputs": [
    {
     "data": {
      "text/plain": [
       "0           68021\n",
       "1           68021\n",
       "2           68021\n",
       "3           68021\n",
       "4           68021\n",
       "            ...  \n",
       "2072553    161886\n",
       "2072554    123833\n",
       "2072555    123290\n",
       "2072556     34182\n",
       "2072557     39891\n",
       "Name: registro_sistema, Length: 2072558, dtype: int64"
      ]
     },
     "execution_count": 15,
     "metadata": {},
     "output_type": "execute_result"
    }
   ],
   "source": [
    "tabela_completa.registro_sistema"
   ]
  },
  {
   "cell_type": "code",
   "execution_count": 16,
   "id": "97cb40d6",
   "metadata": {
    "collapsed": true
   },
   "outputs": [
    {
     "data": {
      "text/plain": [
       "0           68021\n",
       "1           68021\n",
       "2           68021\n",
       "3           68021\n",
       "4           68021\n",
       "            ...  \n",
       "2072553    161886\n",
       "2072554    123833\n",
       "2072555    123290\n",
       "2072556     34182\n",
       "2072557     39891\n",
       "Name: registro_sistema, Length: 2072558, dtype: int64"
      ]
     },
     "execution_count": 16,
     "metadata": {},
     "output_type": "execute_result"
    }
   ],
   "source": [
    "tabela_completa.pop('registro_sistema')"
   ]
  },
  {
   "cell_type": "code",
   "execution_count": 17,
   "id": "361a9cd9",
   "metadata": {},
   "outputs": [],
   "source": [
    "tabela_completa.matricula_ou_siape =  tabela_completa.matricula_ou_siape.astype(str)"
   ]
  },
  {
   "cell_type": "code",
   "execution_count": 18,
   "id": "28c4e6ea",
   "metadata": {
    "collapsed": true
   },
   "outputs": [
    {
     "data": {
      "text/plain": [
       "0          20191023179.0\n",
       "1          20191023179.0\n",
       "2          20170141706.0\n",
       "3           2012965790.0\n",
       "4          20160001381.0\n",
       "               ...      \n",
       "2072553     2013126264.0\n",
       "2072554     2011104080.0\n",
       "2072555     2011104080.0\n",
       "2072556     2011076285.0\n",
       "2072557     2010028040.0\n",
       "Name: matricula_ou_siape, Length: 2072558, dtype: object"
      ]
     },
     "execution_count": 18,
     "metadata": {},
     "output_type": "execute_result"
    }
   ],
   "source": [
    "tabela_completa.matricula_ou_siape"
   ]
  },
  {
   "cell_type": "code",
   "execution_count": 19,
   "id": "91b2c5dc",
   "metadata": {},
   "outputs": [],
   "source": [
    "tabela_completa.to_csv('Datasets/tabela_completa14marco.csv', index=False)"
   ]
  },
  {
   "cell_type": "code",
   "execution_count": null,
   "id": "b04be611",
   "metadata": {},
   "outputs": [],
   "source": []
  }
 ],
 "metadata": {
  "kernelspec": {
   "display_name": "Python 3 (ipykernel)",
   "language": "python",
   "name": "python3"
  },
  "language_info": {
   "codemirror_mode": {
    "name": "ipython",
    "version": 3
   },
   "file_extension": ".py",
   "mimetype": "text/x-python",
   "name": "python",
   "nbconvert_exporter": "python",
   "pygments_lexer": "ipython3",
   "version": "3.10.9"
  }
 },
 "nbformat": 4,
 "nbformat_minor": 5
}
